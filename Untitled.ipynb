{
 "cells": [
  {
   "cell_type": "code",
   "execution_count": null,
   "metadata": {
    "collapsed": true
   },
   "outputs": [],
   "source": []
  }
 ],
 "metadata": {
  "kernelspec": {
   "display_name": "fxdash2",
   "language": "python",
   "name": "fxdash2"
  }
 },
 "nbformat": 4,
 "nbformat_minor": 2
}
